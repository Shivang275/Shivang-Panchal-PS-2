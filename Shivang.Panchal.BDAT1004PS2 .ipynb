{
  "cells": [
    {
      "cell_type": "markdown",
      "metadata": {
        "id": "MtLQYul3wnkG"
      },
      "source": [
        "# **Data Programming - BADT 1004**"
      ]
    },
    {
      "cell_type": "markdown",
      "metadata": {
        "id": "OMkWj8kixD_4"
      },
      "source": [
        "---\n",
        "\n",
        "### **PROBLEM SET 2**\n",
        "\n"
      ]
    },
    {
      "cell_type": "markdown",
      "metadata": {
        "id": "SLCZ79_Jxfmg"
      },
      "source": [
        "---\n",
        "## Question 1\n",
        "Consider the following Python module: <BR>\n",
        "\n",
        "a = 0\n",
        "\n",
        "def b(): <br>\n",
        "    global a <br>\n",
        "    a = c(a) <br>\n",
        "\n",
        "def c(a): <br>\n",
        "    return a + 2 <br>\n",
        "\n",
        "After importing the module into the interpreter, you execute:\n",
        "\n",
        ">>> b()\n",
        "\n",
        ">>> b()\n",
        "\n",
        ">>> b()\n",
        "\n",
        ">>> a\n",
        "\n",
        "?\n",
        "\n",
        "\n",
        "What value is displayed when the last expression (a) is evaluated? Explain your\n",
        "answer by indicating what happens in every executed statement."
      ]
    },
    {
      "cell_type": "markdown",
      "metadata": {
        "id": "cA2KJCbP2kO_"
      },
      "source": [
        "### Answer-1"
      ]
    },
    {
      "cell_type": "code",
      "execution_count": null,
      "metadata": {
        "colab": {
          "base_uri": "https://localhost:8080/"
        },
        "id": "nBPDS1AbwISd",
        "outputId": "8e2aa18f-264d-41ed-8c68-3997cec2e3c0"
      },
      "outputs": [
        {
          "name": "stdout",
          "output_type": "stream",
          "text": [
            "6\n"
          ]
        }
      ],
      "source": [
        "a = 0  # Start - 0 is assign to variable a\n",
        "\n",
        "def b():\n",
        "    global a  # Used a as the global variable \n",
        "    a = c(a)  # Update a by calling function c(a)\n",
        "\n",
        "def c(a):\n",
        "    return a + 2  # Function c returns a + 2\n",
        "\n",
        "# Call b() three times\n",
        "b()  # First call, a becomes 2\n",
        "b()  # Second call, a becomes 4\n",
        "b()  # Third call, a becomes 6\n",
        "\n",
        "print(a)  # Final output: 6\n"
      ]
    },
    {
      "cell_type": "markdown",
      "metadata": {
        "id": "pExH73Iy0qoU"
      },
      "source": [
        "\n",
        "1. **Starting Point**:\n",
        "   - `a = 0`:  The value `0` is assigned to variable `a`.\n",
        "\n",
        "2. **Function `b()`**:\n",
        "   - `b()` uses the global `a` and changes its value by calling another function `c(a)`.\n",
        "\n",
        "3. **Function `c(a)`**:\n",
        "   - `c(a)` takes `a`, adds `2` to it, and returns the result.\n",
        "\n",
        "4. **Calling `b()` Three Times**:\n",
        "   - Each time we call `b()`, it adds `2` to `a`:\n",
        "     - **First call**: `a` changes from `0` to `2`.\n",
        "     - **Second call**: `a` changes from `2` to `4`.\n",
        "     - **Third call**: `a` changes from `4` to `6`.\n",
        "\n",
        "5. **Final Result**:\n",
        "   - `print(a)` shows the final value of `a`, which is `6`.\n"
      ]
    },
    {
      "cell_type": "markdown",
      "metadata": {
        "id": "2dAmf3nQ2yCM"
      },
      "source": [
        "---\n",
        "## Question 2\n",
        "\n",
        "The function `fileLength()`, given to you, takes the name of a file as input and returns the length of the file:\n",
        "\n",
        "### Example:\n",
        "```python\n",
        ">>> fileLength('midterm.py')\n",
        "284\n",
        "\n",
        ">>> fileLength('idterm.py')\n",
        "Traceback (most recent call last):\n",
        "  File \"<pyshell#34>\", line 1, in <module>\n",
        "    fileLength('idterm.py')\n",
        "  File \"/Users/me/midterm.py\", line 3, in fileLength\n",
        "    infile = open(filename)\n",
        "FileNotFoundError: [Errno 2] No such file or directory: 'idterm.py'"
      ]
    },
    {
      "cell_type": "markdown",
      "metadata": {
        "id": "eDCZjsTi50kU"
      },
      "source": [
        "As shown above, if the file cannot be found by the interpreter or if it cannot be read as a text file, an exception will be raised. Modify the function fileLength() so that a friendly message is printed instead:\n",
        "```\n",
        ">>> fileLength('midterm.py')\n",
        "358\n",
        "\n",
        ">>> fileLength('idterm.py')\n",
        "File idterm.py not found.\n"
      ]
    },
    {
      "cell_type": "markdown",
      "metadata": {
        "id": "Eafxg-mH5FKU"
      },
      "source": [
        "### **Answer-2** <BR>\n",
        "To modify the fileLength() function to handle the FileNotFoundError and\n",
        "provide a friendly message when the file does not exist, we can use a\n",
        "try-except block."
      ]
    },
    {
      "cell_type": "code",
      "execution_count": 10,
      "metadata": {
        "id": "SulBxGLq49Bm"
      },
      "outputs": [
        {
          "name": "stdout",
          "output_type": "stream",
          "text": [
            "file_length('Filelength.txt')\n",
            "123\n",
            "\n",
            "file_length('idterm.py')\n",
            "Reminder: The file 'idterm.py' was not found. Please check the filename and try again.\n"
          ]
        }
      ],
      "source": [
        "def filelength(filename):\n",
        "    \n",
        "    try:    \n",
        "        file = open(filename)\n",
        "        contents = file.read()\n",
        "        file.close()\n",
        "        print(len(contents))\n",
        "\n",
        "    except FileNotFoundError:\n",
        "        print(f\"Reminder: The file '{filename}' was not found. Please check the filename and try again.\")\n",
        "\n",
        "print(\"file_length('Filelength.txt')\")\n",
        "file_length('Filelength.txt')\n",
        "\n",
        "\n",
        "print(\"\\nfile_length('idterm.py')\")\n",
        "file_length('idterm.py')\n"
      ]
    },
    {
      "cell_type": "markdown",
      "metadata": {
        "id": "1nkuC0LN7438"
      },
      "source": [
        "---\n",
        "### **Question 3** <BR>\n",
        "Write a class named Marsupial that can be used as shown below: <BR>\n",
        "\n",
        ">>> m = Marsupial() <BR>\n",
        ">>> m.put_in_pouch('doll')<BR>\n",
        ">>> m.put_in_pouch('firetruck')<BR>\n",
        ">>> m.put_in_pouch('kitten') <BR>\n",
        ">>> m.pouch_contents() <BR>\n",
        "['doll', 'firetruck', 'kitten']<BR>\n",
        "<BR>\n",
        "\n",
        "\n",
        "Now write a class named Kangaroo as a subclass of Marsupial that inherits all the\n",
        "attributes of Marsupial and also: <BR>\n",
        "**a.** extends the Marsupial __init__ constructor to take, as input, the\n",
        "coordinates x and y of the Kangaroo object, <BR>\n",
        "**b.** supports method jump that takes number values dx and dy as input and\n",
        "moves the kangaroo by dx units along the x-axis and by dy units along the y\n",
        "axis, and <BR>\n",
        "c.overloads the __str__ operator so it behaves as shown below.\n",
        "\n",
        ">>> k = Kangaroo(0,0) <BR>\n",
        ">>> print(k) <BR>\n",
        "I am a Kangaroo located at coordinates (0,0)<BR>\n",
        ">>> k.put_in_pouch('doll') <BR>\n",
        ">>> k.put_in_pouch('firetruck')<BR>\n",
        ">>> k.put_in_pouch('kitten') <BR>\n",
        ">>> k.pouch_contents() <BR>\n",
        "['doll', 'firetruck', 'kitten'] <BR>\n",
        ">>> k.jump(1,0) <BR>\n",
        ">>> k.jump(1,0) <BR>\n",
        ">>> k.jump(1,0) <BR>\n",
        ">>> print(k) <BR>\n",
        "I am a Kangaroo located at coordinates (3,0) <BR>\n",
        "\n",
        "\n",
        "\n",
        "\n",
        "## Answer-3"
      ]
    },
    {
      "cell_type": "code",
      "execution_count": 15,
      "metadata": {
        "id": "-VLS6rvn9i-X"
      },
      "outputs": [
        {
          "name": "stdout",
          "output_type": "stream",
          "text": [
            "I am a Kangaroo located at coordinates (0,0)\n",
            "['doll', 'firetruck', 'kitten']\n",
            "I am a Kangaroo located at coordinates (3,0)\n"
          ]
        }
      ],
      "source": [
        "class Marsupial: # part a\n",
        "    def __init__(self):\n",
        "        self.pouch = []\n",
        "\n",
        "    def put_in_pouch(self, item):\n",
        "        self.pouch.append(item)\n",
        "\n",
        "    def pouch_contents(self):\n",
        "        return self.pouch\n",
        "\n",
        "class Kangaroo(Marsupial):\n",
        "    def __init__(self, x, y):\n",
        "        super().__init__()  # Initialize the Marsupial part\n",
        "        self.x = x\n",
        "        self.y = y\n",
        "\n",
        "    def jump(self, dx, dy): # part b\n",
        "        self.x += dx\n",
        "        self.y += dy\n",
        "\n",
        "    def __str__(self): # part c\n",
        "        return f\"I am a Kangaroo located at coordinates ({self.x},{self.y})\"\n",
        "\n",
        "k = Kangaroo(0,0)\n",
        "print(k)\n",
        "\n",
        "k.put_in_pouch('doll')\n",
        "k.put_in_pouch('firetruck')\n",
        "k.put_in_pouch('kitten')\n",
        "print (k.pouch_contents())\n",
        "\n",
        "\n",
        "k.jump(1,0)\n",
        "k.jump(1,0)\n",
        "k.jump(1,0)\n",
        "print(k)\n"
      ]
    },
    {
      "cell_type": "markdown",
      "metadata": {
        "id": "J6uExk-r-vDY"
      },
      "source": [
        "\n",
        "\n",
        "---\n",
        "\n",
        "\n",
        "# Question 4\n",
        "\n",
        "\n",
        "\n",
        "\n",
        "Write a function `collatz()` that takes a positive integer `x` as input and prints the Collatz sequence starting at `x`. A Collatz sequence is obtained by repeatedly applying this rule to the previous number `x` in the sequence:\n",
        "\n",
        "- \\( x = \\begin{cases}\n",
        "\\frac{x}{2} & \\text{if } x \\text{ is even} \\\\\n",
        "3x + 1 & \\text{if } x \\text{ is odd}\n",
        "\\end{cases} \\)\n",
        "\n",
        "Your function should stop when the sequence gets to number 1. Your implementation must be recursive, without any loops.\n",
        "\n",
        "\n",
        "\n",
        "\n",
        "---\n",
        "\n",
        "\n",
        "### Answer-4"
      ]
    },
    {
      "cell_type": "code",
      "execution_count": 18,
      "metadata": {
        "colab": {
          "base_uri": "https://localhost:8080/"
        },
        "id": "uaLZxvnp_wpY",
        "outputId": "eae2eaf8-36f5-4ce7-fec1-acd560f3d6ad"
      },
      "outputs": [
        {
          "name": "stdout",
          "output_type": "stream",
          "text": [
            ">>> collatz(1)\n",
            "1\n",
            ">>> collatz(10)\n",
            "10\n",
            "5\n",
            "16\n",
            "8\n",
            "4\n",
            "2\n",
            "1\n"
          ]
        }
      ],
      "source": [
        "\n",
        "def collatz(x):\n",
        "    print(x)  # Print the current value of x\n",
        "    if x == 1:  # Base case\n",
        "        return\n",
        "    elif x % 2 == 0:  # If x is even\n",
        "        collatz(x // 2)\n",
        "    else:  # If x is odd\n",
        "        collatz(3 * x + 1)\n",
        "\n",
        "print('>>> collatz(1)')\n",
        "collatz(1)\n",
        "print('>>> collatz(10)')\n",
        "collatz(10)"
      ]
    },
    {
      "cell_type": "markdown",
      "metadata": {
        "id": "9lmPvJCI_3Tc"
      },
      "source": [
        "\n",
        "\n",
        "---\n",
        "\n",
        "\n",
        "# Question 5\n",
        "\n",
        "\n",
        "\n",
        "\n",
        "Write a recursive method `binary()` that takes a non-negative integer `n` and prints the binary representation of integer `n`.\n",
        "\n",
        "## Example Usage\n",
        "\n",
        "```python\n",
        ">>> binary(0)\n",
        "0\n",
        ">>> binary(1)\n",
        "1\n",
        ">>> binary(3)\n",
        "11\n",
        ">>> binary(9)\n",
        "1001\n",
        "```\n",
        "\n",
        "### Answer-5"
      ]
    },
    {
      "cell_type": "code",
      "execution_count": 19,
      "metadata": {
        "colab": {
          "base_uri": "https://localhost:8080/"
        },
        "id": "RAIra05pAsAq",
        "outputId": "8fcd0876-86e4-49e6-d262-dc89c15dbae0"
      },
      "outputs": [
        {
          "name": "stdout",
          "output_type": "stream",
          "text": [
            "0\n",
            "1\n",
            "11\n",
            "1001"
          ]
        }
      ],
      "source": [
        "def binary(n):\n",
        "    if n > 1:\n",
        "        binary(n // 2)  # Recursive call\n",
        "    print(n % 2, end='')  # Print the remainder\n",
        "\n",
        "binary(0)  # Output: 0\n",
        "print()     \n",
        "binary(1)  # Output: 1\n",
        "print()     \n",
        "binary(3)  # Output: 11\n",
        "print()     \n",
        "binary(9)  # Output: 1001"
      ]
    },
    {
      "cell_type": "markdown",
      "metadata": {
        "id": "NapYfBfbBQbW"
      },
      "source": [
        "\n",
        "\n",
        "---\n",
        "\n",
        "\n",
        "# Question 6\n",
        "\n",
        "Implement a class named `HeadingParser` that can be used to parse an HTML document, and retrieve and print all the headings in the document. You should implement your class as a subclass of `HTMLParser`, defined in the Standard Library module `html.parser`. When fed a string containing HTML code, your class should print the headings, one per line and in the order in which they appear in the document. Each heading should be indented as follows: an h1 heading should have indentation 0, and h2 heading should have indentation 1, etc. Test your implementation using `w3c.html`.\n",
        "\n",
        "## Example Usage\n",
        "\n",
        "```python\n",
        "infile = open('w3c.html')\n",
        "content = infile.read()\n",
        "infile.close()\n",
        "hp = HeadingParser()\n",
        "hp.feed(content)\n",
        "```\n",
        "W3C Mission <BR>\n",
        " Principles <BR>\n",
        "\n",
        "\n",
        "\n",
        "\n",
        "\n",
        "## Answer-6"
      ]
    },
    {
      "cell_type": "code",
      "execution_count": 30,
      "metadata": {
        "colab": {
          "base_uri": "https://localhost:8080/"
        },
        "id": "XyISw690B_S1",
        "outputId": "042f0433-6719-4870-8870-780a4db6449b"
      },
      "outputs": [
        {
          "name": "stdout",
          "output_type": "stream",
          "text": [
            "W3C Mission\n",
            " Principles\n"
          ]
        }
      ],
      "source": [
        "from html.parser import HTMLParser\n",
        "\n",
        "class HeadingParser(HTMLParser):\n",
        "\n",
        "    def __init__(self):\n",
        "        '''Initialise the variables.'''\n",
        "        super().__init__()\n",
        "        self.current_tag = []\n",
        "\n",
        "    def handle_starttag(self, tag, attrs):\n",
        "        '''Read the start tag'''\n",
        "\n",
        "        # Check if the tag belongs to heading. If so then append inside the variable to be used later\n",
        "        if tag in ['h1', 'h2', 'h3', 'h4', 'h5', 'h6']:\n",
        "            self.current_tag = tag\n",
        "\n",
        "    def handle_data(self, data):\n",
        "        '''Get the data from the tag'''\n",
        "\n",
        "        if self.current_tag:\n",
        "            level = int(self.current_tag[1]) - 1  # Calculate indentation level\n",
        "            print(' ' * level + data.strip())\n",
        "\n",
        "    def handle_endtag(self, tag):\n",
        "        if tag == self.current_tag:\n",
        "            self.current_tag = ''\n",
        "\n",
        "\n",
        "infile = open('w3c.html')\n",
        "content = infile.read()\n",
        "infile.close()\n",
        "\n",
        "hp = HeadingParser()\n",
        "hp.feed(content)"
      ]
    },
    {
      "cell_type": "markdown",
      "metadata": {
        "id": "1uIhnxN3N59b"
      },
      "source": [
        "\n",
        "\n",
        "---\n",
        "\n",
        "\n",
        "#  Question-7\n",
        "\n",
        "\n",
        "Implement a recursive function `webdir()` that takes as input: a URL (as a string) and non-negative integers `depth` and `indent`. Your function should visit every web page reachable from the starting URL web page in `depth` clicks or less, and print each web page's URL. As shown below, indentation, specified by `indent`, should be used to indicate the depth of a URL.\n",
        "\n",
        "#### Example Usage\n",
        "\n",
        "```python\n",
        "webdir('http://reed.cs.depaul.edu/lperkovic/csc242/test1.html', 2, 0)\n",
        "\n",
        "http://reed.cs.depaul.edu/lperkovic/csc242/test1.html\n",
        "    http://reed.cs.depaul.edu/lperkovic/csc242/test2.html\n",
        "        http://reed.cs.depaul.edu/lperkovic/csc242/test4.html\n",
        "    http://reed.cs.depaul.edu/lperkovic/csc242/test3.html\n",
        "        http://reed.cs.depaul.edu/lperkovic/csc242/test4.html\n",
        "```\n",
        "\n",
        "\n",
        "\n",
        "##  Answer-7\n",
        "\n"
      ]
    },
    {
      "cell_type": "code",
      "execution_count": null,
      "metadata": {
        "id": "pWsq5BKUYa3s"
      },
      "outputs": [],
      "source": [
        "import requests\n",
        "from bs4 import BeautifulSoup\n",
        "\n",
        "def webdir(url, depth, indent):\n",
        "    # Print the current URL with the specified indentation\n",
        "    print('    ' * indent + url)\n",
        "\n",
        "    # Stop recursion if depth is 0\n",
        "    if depth == 0:\n",
        "        return\n",
        "\n",
        "    try:\n",
        "        # Send a request to the URL\n",
        "        response = requests.get(url)\n",
        "        # Raise an exception for HTTP errors\n",
        "        response.raise_for_status()\n",
        "        # Parse the page content\n",
        "        soup = BeautifulSoup(response.text, 'html.parser')\n",
        "\n",
        "        # Find all the anchor tags in the page\n",
        "        for link in soup.find_all('a'):\n",
        "            # Get the href attribute\n",
        "            href = link.get('href')\n",
        "            if href:\n",
        "                # Construct the full URL if the href is relative\n",
        "                full_url = requests.compat.urljoin(url, href)\n",
        "                # Recursively call webdir for the found URL\n",
        "                webdir(full_url, depth - 1, indent + 1)\n",
        "\n",
        "    except requests.exceptions.RequestException as e:\n",
        "        print(f\"Error accessing {url}: {e}\")\n",
        "\n",
        "webdir('http://reed.cs.depaul.edu/lperkovic/csc242/test1.html', 2, 0)\n",
        "\n",
        "\n",
        "\n"
      ]
    },
    {
      "cell_type": "markdown",
      "metadata": {
        "id": "ZwGhBjeca5EZ"
      },
      "source": [
        "```python\n",
        "\n",
        "http://reed.cs.depaul.edu/lperkovic/csc242/test1.html\n",
        "    http://reed.cs.depaul.edu/lperkovic/csc242/test2.html\n",
        "        http://reed.cs.depaul.edu/lperkovic/csc242/test4.html\n",
        "    http://reed.cs.depaul.edu/lperkovic/csc242/test3.html\n",
        "        http://reed.cs.depaul.edu/lperkovic/csc242/test4.html\n",
        "```"
      ]
    },
    {
      "cell_type": "markdown",
      "metadata": {
        "id": "39j5ay53PFXC"
      },
      "source": [
        "\n",
        "\n",
        "---\n",
        "\n",
        "\n",
        "# Question 8\n",
        "Write SQL queries on the below database table that return:\n",
        "\n",
        "a) All the temperature data.  \n",
        "b) All the cities, but without repetition.  \n",
        "c) All the records for India.  \n",
        "d) All the Fall records.  \n",
        "e) The city, country, and season for which the average rainfall is between 200 and 400 millimeters.  \n",
        "f) The city and country for which the average Fall temperature is above 20 degrees, in increasing temperature order.  \n",
        "g) The total annual rainfall for Cairo.  \n",
        "h) The total rainfall for each season.  \n",
        "\n",
        "---\n",
        "\n",
        "| City   | Country        | Season  | Temperature (C) | Rainfall (mm) |\n",
        "|--------|----------------|---------|------------------|---------------|\n",
        "| Mumbai | India          | Winter  | 24.8            | 5.9           |\n",
        "| Mumbai | India          | Spring  | 28.4            | 16.2          |\n",
        "| Mumbai | India          | Summer  | 27.9            | 1549.4        |\n",
        "| Mumbai | India          | Fall    | 27.6            | 346.0         |\n",
        "| London | United Kingdom | Winter  | 4.2             | 207.7         |\n",
        "| London | United Kingdom | Spring  | 8.3             | 169.6         |\n",
        "| London | United Kingdom | Summer  | 15.7            | 157.0         |\n",
        "| London | United Kingdom | Fall    | 10.4            | 218.5         |\n",
        "| Cairo  | Egypt          | Winter  | 13.6            | 16.5          |\n",
        "| Cairo  | Egypt          | Spring  | 20.7            | 6.5           |\n",
        "| Cairo  | Egypt          | Summer  | 27.7            | 0.1           |\n",
        "| Cairo  | Egypt          | Fall    | 22.2            | 4.5           |\n",
        "\n",
        "\n",
        "\n",
        "---\n",
        "\n",
        "\n",
        "## Answer-8 ( SQL Queries)\n"
      ]
    },
    {
      "cell_type": "code",
      "execution_count": null,
      "metadata": {
        "id": "b1I4D3KBVNog"
      },
      "outputs": [],
      "source": [
        "1, SELECT temperature from tablename;\n",
        "2, SELECT distinct city from tablename;\n",
        "3, SELECT * from tablename where country='India';\n",
        "4, SELECT * from tablename where season='Fall';\n",
        "5, SELECT city, country, season from tablename where rainfaill >= 200\n",
        "   and rainfall <= 400;\n",
        "6, SELECT city, country from tablename where temperature>20\n",
        "   order by temperature ASC;\n",
        "7, SELECT count(rainfall) from tablename where city='Cairo';\n",
        "8, SELECT rainfall, count(rainfall) from tablename\n",
        "   group by rainfall;"
      ]
    },
    {
      "cell_type": "markdown",
      "metadata": {
        "id": "z_cmOGqcWvaG"
      },
      "source": [
        "\n",
        "\n",
        "---\n",
        "\n",
        "\n",
        "# Question 9\n",
        "Suppose list words is defined as follows:\n",
        "words = ['The', 'quick', 'brown', 'fox', 'jumps', 'over',          'the', 'lazy', 'dog']\n",
        "Write list comprehension expressions that use list words and generate the following lists:\n",
        "\n",
        "a) ['THE', 'QUICK', 'BROWN', 'FOX', 'JUMPS', 'OVER', 'THE', 'LAZY', 'DOG']\n",
        "\n",
        "b) ['the', 'quick', 'brown', 'fox', 'jumps', 'over', 'the', 'lazy', 'dog']\n",
        "\n",
        "c) [3, 5, 5, 3, 5, 4, 3, 4, 3] (the list of lengths of words in list words).\n",
        "\n",
        "d) [['THE', 'the', 3], ['QUICK', 'quick', 5], ['BROWN', 'brown', 5], ['FOX', 'fox', 3], ['JUMPS', 'jumps', 5],\n",
        "['OVER', 'over', 4], ['THE', 'the', 3], ['LAZY', 'lazy', 4], ['DOG', 'dog', 3]] (the list containing a list for every word of list words, where each list contains the word in uppercase and lowercase and the length of the word.)\n",
        "\n",
        "e) ['The', 'quick', 'brown', 'fox', 'jumps', 'over', 'the', 'lazy', 'dog'] (the list of words in list words containing 4 or more characters.)\n",
        "\n",
        "\n",
        "\n",
        "\n",
        "## Answer-9\n"
      ]
    },
    {
      "cell_type": "code",
      "execution_count": 18,
      "metadata": {
        "colab": {
          "base_uri": "https://localhost:8080/"
        },
        "id": "qHF1dbcgXsH0",
        "outputId": "c535470c-75f2-48e9-f6c6-6e5542dbf305"
      },
      "outputs": [
        {
          "name": "stdout",
          "output_type": "stream",
          "text": [
            "a) ['THE', 'QUICK', 'BROWN', 'FOX', 'JUMPS', 'OVER', 'THE', 'LAZY', 'DOG']\n",
            "b) ['the', 'quick', 'brown', 'fox', 'jumps', 'over', 'the', 'lazy', 'dog']\n",
            "c) [3, 5, 5, 3, 5, 4, 3, 4, 3]\n",
            "d) [['THE', 'the', 3], ['QUICK', 'quick', 5], ['BROWN', 'brown', 5], ['FOX', 'fox', 3], ['JUMPS', 'jumps', 5], ['OVER', 'over', 4], ['THE', 'the', 3], ['LAZY', 'lazy', 4], ['DOG', 'dog', 3]]\n",
            "e) ['quick', 'brown', 'jumps', 'over', 'lazy']\n"
          ]
        }
      ],
      "source": [
        "# Define the words list\n",
        "words = ['The', 'quick', 'brown', 'fox', 'jumps', 'over',\n",
        "         'the', 'lazy', 'dog']\n",
        "\n",
        "# a) Convert all words to uppercase\n",
        "upper_words = [word.upper() for word in words]\n",
        "print(\"a)\", upper_words)\n",
        "\n",
        "# b) Convert all words to lowercase\n",
        "lower_words = [word.lower() for word in words]\n",
        "print(\"b)\", lower_words)\n",
        "\n",
        "# c) Get the lengths of each word\n",
        "lengths = [len(word) for word in words]\n",
        "print(\"c)\", lengths)\n",
        "\n",
        "# d) Create a list containing each word in uppercase, lowercase, and its length\n",
        "combined = [[word.upper(), word.lower(), len(word)] for word in words]\n",
        "print(\"d)\", combined)\n",
        "\n",
        "# e) Get words with 4 or more characters\n",
        "long_words = [word for word in words if len(word) >= 4]\n",
        "print(\"e)\", long_words)\n"
      ]
    }
  ],
  "metadata": {
    "colab": {
      "provenance": []
    },
    "kernelspec": {
      "display_name": "base",
      "language": "python",
      "name": "python3"
    },
    "language_info": {
      "codemirror_mode": {
        "name": "ipython",
        "version": 3
      },
      "file_extension": ".py",
      "mimetype": "text/x-python",
      "name": "python",
      "nbconvert_exporter": "python",
      "pygments_lexer": "ipython3",
      "version": "3.10.9"
    }
  },
  "nbformat": 4,
  "nbformat_minor": 0
}
